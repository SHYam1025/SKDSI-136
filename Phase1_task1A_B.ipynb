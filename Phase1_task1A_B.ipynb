{
 "cells": [
  {
   "cell_type": "code",
   "execution_count": 1,
   "id": "27ee22f0-eb50-4da6-96ad-ce0c55461ae1",
   "metadata": {},
   "outputs": [],
   "source": [
    "import pandas as pd\n",
    "import numpy as np\n",
    "import matplotlib.pyplot as plt\n"
   ]
  },
  {
   "cell_type": "code",
   "execution_count": 2,
   "id": "44ec7deb-6a26-4b9f-87d3-8b8b779b789a",
   "metadata": {},
   "outputs": [],
   "source": [
    "# Load the dataset\n",
    "df = pd.read_csv('/Users/shyampathak/Downloads/Electric_Vehicle_Population_Data.csv')\n"
   ]
  },
  {
   "cell_type": "code",
   "execution_count": 3,
   "id": "e8fc4773-e4de-4392-9328-555b7d7191c4",
   "metadata": {},
   "outputs": [
    {
     "name": "stdout",
     "output_type": "stream",
     "text": [
      "Original DataFrame:\n",
      "   VIN (1-10)  County       City State  Postal Code  Model Year   Make  \\\n",
      "0  WBY8P6C58K    King    Seattle    WA        98115        2019    BMW   \n",
      "1  5YJSA1DN4D  Kitsap  Bremerton    WA        98312        2013  TESLA   \n",
      "2  5YJSA1E26J    King       Kent    WA        98042        2018  TESLA   \n",
      "3  WBY2Z2C54E    King   Bellevue    WA        98004        2014    BMW   \n",
      "4  5YJXCDE23J    King   Bellevue    WA        98004        2018  TESLA   \n",
      "\n",
      "     Model                   Electric Vehicle Type  \\\n",
      "0       I3          Battery Electric Vehicle (BEV)   \n",
      "1  MODEL S          Battery Electric Vehicle (BEV)   \n",
      "2  MODEL S          Battery Electric Vehicle (BEV)   \n",
      "3       I8  Plug-in Hybrid Electric Vehicle (PHEV)   \n",
      "4  MODEL X          Battery Electric Vehicle (BEV)   \n",
      "\n",
      "  Clean Alternative Fuel Vehicle (CAFV) Eligibility  Electric Range  \\\n",
      "0           Clean Alternative Fuel Vehicle Eligible             153   \n",
      "1           Clean Alternative Fuel Vehicle Eligible             208   \n",
      "2           Clean Alternative Fuel Vehicle Eligible             249   \n",
      "3             Not eligible due to low battery range              14   \n",
      "4           Clean Alternative Fuel Vehicle Eligible             238   \n",
      "\n",
      "   Base MSRP  Legislative District  DOL Vehicle ID  \\\n",
      "0          0                  43.0       259254397   \n",
      "1      69900                  35.0       127420940   \n",
      "2          0                  47.0       170287183   \n",
      "3          0                  41.0       205545868   \n",
      "4          0                  41.0       237977386   \n",
      "\n",
      "                  Vehicle Location  \\\n",
      "0  POINT (-122.3008235 47.6862671)   \n",
      "1  POINT (-122.6961203 47.5759584)   \n",
      "2  POINT (-122.1145138 47.3581107)   \n",
      "3    POINT (-122.202397 47.619252)   \n",
      "4    POINT (-122.202397 47.619252)   \n",
      "\n",
      "                                Electric Utility  2020 Census Tract  \n",
      "0   CITY OF SEATTLE - (WA)|CITY OF TACOMA - (WA)       5.303300e+10  \n",
      "1                         PUGET SOUND ENERGY INC       5.303508e+10  \n",
      "2  PUGET SOUND ENERGY INC||CITY OF TACOMA - (WA)       5.303303e+10  \n",
      "3  PUGET SOUND ENERGY INC||CITY OF TACOMA - (WA)       5.303302e+10  \n",
      "4  PUGET SOUND ENERGY INC||CITY OF TACOMA - (WA)       5.303302e+10  \n"
     ]
    }
   ],
   "source": [
    "# Display the first few rows of the original DataFrame\n",
    "print(\"Original DataFrame:\")\n",
    "print(df.head())"
   ]
  },
  {
   "cell_type": "code",
   "execution_count": 4,
   "id": "11568244-77aa-4d05-9aba-b62c025b224d",
   "metadata": {},
   "outputs": [
    {
     "name": "stdout",
     "output_type": "stream",
     "text": [
      "\n",
      "Missing Data (True indicates missing):\n",
      "      VIN (1-10)  County   City  State  Postal Code  Model Year   Make  Model  \\\n",
      "0          False   False  False  False        False       False  False  False   \n",
      "1          False   False  False  False        False       False  False  False   \n",
      "2          False   False  False  False        False       False  False  False   \n",
      "3          False   False  False  False        False       False  False  False   \n",
      "4          False   False  False  False        False       False  False  False   \n",
      "...          ...     ...    ...    ...          ...         ...    ...    ...   \n",
      "4354       False   False  False  False        False       False  False  False   \n",
      "4355       False   False  False  False        False       False  False  False   \n",
      "4356       False   False  False  False        False       False  False  False   \n",
      "4357       False   False  False  False        False       False  False  False   \n",
      "4358       False   False  False  False        False       False  False  False   \n",
      "\n",
      "      Electric Vehicle Type  \\\n",
      "0                     False   \n",
      "1                     False   \n",
      "2                     False   \n",
      "3                     False   \n",
      "4                     False   \n",
      "...                     ...   \n",
      "4354                  False   \n",
      "4355                  False   \n",
      "4356                  False   \n",
      "4357                  False   \n",
      "4358                  False   \n",
      "\n",
      "      Clean Alternative Fuel Vehicle (CAFV) Eligibility  Electric Range  \\\n",
      "0                                                 False           False   \n",
      "1                                                 False           False   \n",
      "2                                                 False           False   \n",
      "3                                                 False           False   \n",
      "4                                                 False           False   \n",
      "...                                                 ...             ...   \n",
      "4354                                              False           False   \n",
      "4355                                              False           False   \n",
      "4356                                              False           False   \n",
      "4357                                              False           False   \n",
      "4358                                              False           False   \n",
      "\n",
      "      Base MSRP  Legislative District  DOL Vehicle ID  Vehicle Location  \\\n",
      "0         False                 False           False             False   \n",
      "1         False                 False           False             False   \n",
      "2         False                 False           False             False   \n",
      "3         False                 False           False             False   \n",
      "4         False                 False           False             False   \n",
      "...         ...                   ...             ...               ...   \n",
      "4354      False                 False           False             False   \n",
      "4355      False                 False           False             False   \n",
      "4356      False                 False           False             False   \n",
      "4357      False                 False           False             False   \n",
      "4358      False                 False           False              True   \n",
      "\n",
      "      Electric Utility  2020 Census Tract  \n",
      "0                False              False  \n",
      "1                False              False  \n",
      "2                False              False  \n",
      "3                False              False  \n",
      "4                False              False  \n",
      "...                ...                ...  \n",
      "4354             False              False  \n",
      "4355             False              False  \n",
      "4356             False              False  \n",
      "4357             False              False  \n",
      "4358              True               True  \n",
      "\n",
      "[4359 rows x 17 columns]\n"
     ]
    }
   ],
   "source": [
    "# Identifying missing data\n",
    "print(\"\\nMissing Data (True indicates missing):\")\n",
    "print(df.isna())"
   ]
  },
  {
   "cell_type": "code",
   "execution_count": 5,
   "id": "9e720941-e599-449c-9a2a-6d27a8ba04d8",
   "metadata": {},
   "outputs": [
    {
     "name": "stdout",
     "output_type": "stream",
     "text": [
      "\n",
      "DataFrame after dropping rows with missing data:\n",
      "      VIN (1-10)    County       City State  Postal Code  Model Year     Make  \\\n",
      "0     WBY8P6C58K      King    Seattle    WA        98115        2019      BMW   \n",
      "1     5YJSA1DN4D    Kitsap  Bremerton    WA        98312        2013    TESLA   \n",
      "2     5YJSA1E26J      King       Kent    WA        98042        2018    TESLA   \n",
      "3     WBY2Z2C54E      King   Bellevue    WA        98004        2014      BMW   \n",
      "4     5YJXCDE23J      King   Bellevue    WA        98004        2018    TESLA   \n",
      "...          ...       ...        ...   ...          ...         ...      ...   \n",
      "4353  1N4AZ0CPXD     Clark  Vancouver    WA        98685        2013   NISSAN   \n",
      "4354  7PDSGABAXP      King    Seattle    WA        98103        2023   RIVIAN   \n",
      "4355  YV4BR0CL5L      King   Bellevue    WA        98005        2020    VOLVO   \n",
      "4356  KM8KRDAF8P      King  Shoreline    WA        98155        2023  HYUNDAI   \n",
      "4357  3C3CFFGE9G  Thurston    Olympia    WA        98506        2016     FIAT   \n",
      "\n",
      "        Model                   Electric Vehicle Type  \\\n",
      "0          I3          Battery Electric Vehicle (BEV)   \n",
      "1     MODEL S          Battery Electric Vehicle (BEV)   \n",
      "2     MODEL S          Battery Electric Vehicle (BEV)   \n",
      "3          I8  Plug-in Hybrid Electric Vehicle (PHEV)   \n",
      "4     MODEL X          Battery Electric Vehicle (BEV)   \n",
      "...       ...                                     ...   \n",
      "4353     LEAF          Battery Electric Vehicle (BEV)   \n",
      "4354      R1S          Battery Electric Vehicle (BEV)   \n",
      "4355     XC90  Plug-in Hybrid Electric Vehicle (PHEV)   \n",
      "4356  IONIQ 5          Battery Electric Vehicle (BEV)   \n",
      "4357      500          Battery Electric Vehicle (BEV)   \n",
      "\n",
      "      Clean Alternative Fuel Vehicle (CAFV) Eligibility  Electric Range  \\\n",
      "0               Clean Alternative Fuel Vehicle Eligible             153   \n",
      "1               Clean Alternative Fuel Vehicle Eligible             208   \n",
      "2               Clean Alternative Fuel Vehicle Eligible             249   \n",
      "3                 Not eligible due to low battery range              14   \n",
      "4               Clean Alternative Fuel Vehicle Eligible             238   \n",
      "...                                                 ...             ...   \n",
      "4353            Clean Alternative Fuel Vehicle Eligible              75   \n",
      "4354  Eligibility unknown as battery range has not b...               0   \n",
      "4355              Not eligible due to low battery range              18   \n",
      "4356  Eligibility unknown as battery range has not b...               0   \n",
      "4357            Clean Alternative Fuel Vehicle Eligible              84   \n",
      "\n",
      "      Base MSRP  Legislative District  DOL Vehicle ID  \\\n",
      "0             0                  43.0       259254397   \n",
      "1         69900                  35.0       127420940   \n",
      "2             0                  47.0       170287183   \n",
      "3             0                  41.0       205545868   \n",
      "4             0                  41.0       237977386   \n",
      "...         ...                   ...             ...   \n",
      "4353          0                  18.0       263376760   \n",
      "4354          0                  36.0       260527928   \n",
      "4355          0                  48.0       321092600   \n",
      "4356          0                  32.0       235163946   \n",
      "4357          0                  22.0         8735415   \n",
      "\n",
      "                     Vehicle Location  \\\n",
      "0     POINT (-122.3008235 47.6862671)   \n",
      "1     POINT (-122.6961203 47.5759584)   \n",
      "2     POINT (-122.1145138 47.3581107)   \n",
      "3       POINT (-122.202397 47.619252)   \n",
      "4       POINT (-122.202397 47.619252)   \n",
      "...                               ...   \n",
      "4353    POINT (-122.688741 45.711311)   \n",
      "4354   POINT (-122.3499053 47.673887)   \n",
      "4355    POINT (-122.167394 47.614119)   \n",
      "4356    POINT (-122.301507 47.761784)   \n",
      "4357      POINT (-122.86491 47.07503)   \n",
      "\n",
      "                                       Electric Utility  2020 Census Tract  \n",
      "0          CITY OF SEATTLE - (WA)|CITY OF TACOMA - (WA)       5.303300e+10  \n",
      "1                                PUGET SOUND ENERGY INC       5.303508e+10  \n",
      "2         PUGET SOUND ENERGY INC||CITY OF TACOMA - (WA)       5.303303e+10  \n",
      "3         PUGET SOUND ENERGY INC||CITY OF TACOMA - (WA)       5.303302e+10  \n",
      "4         PUGET SOUND ENERGY INC||CITY OF TACOMA - (WA)       5.303302e+10  \n",
      "...                                                 ...                ...  \n",
      "4353  BONNEVILLE POWER ADMINISTRATION||PUD NO 1 OF C...       5.301104e+10  \n",
      "4354       CITY OF SEATTLE - (WA)|CITY OF TACOMA - (WA)       5.303300e+10  \n",
      "4355      PUGET SOUND ENERGY INC||CITY OF TACOMA - (WA)       5.303302e+10  \n",
      "4356       CITY OF SEATTLE - (WA)|CITY OF TACOMA - (WA)       5.303302e+10  \n",
      "4357                             PUGET SOUND ENERGY INC       5.306701e+10  \n",
      "\n",
      "[4356 rows x 17 columns]\n"
     ]
    }
   ],
   "source": [
    "# Filtering out missing data (remove rows with any missing values)\n",
    "df_dropped = df.dropna()\n",
    "print(\"\\nDataFrame after dropping rows with missing data:\")\n",
    "print(df_dropped)\n"
   ]
  },
  {
   "cell_type": "code",
   "execution_count": 6,
   "id": "0c117cfd-a2b0-49bc-8048-2ba1f9f7fd6a",
   "metadata": {},
   "outputs": [
    {
     "name": "stdout",
     "output_type": "stream",
     "text": [
      "\n",
      "DataFrame after filling missing data with 0:\n",
      "      VIN (1-10)    County       City State  Postal Code  Model Year     Make  \\\n",
      "0     WBY8P6C58K      King    Seattle    WA        98115        2019      BMW   \n",
      "1     5YJSA1DN4D    Kitsap  Bremerton    WA        98312        2013    TESLA   \n",
      "2     5YJSA1E26J      King       Kent    WA        98042        2018    TESLA   \n",
      "3     WBY2Z2C54E      King   Bellevue    WA        98004        2014      BMW   \n",
      "4     5YJXCDE23J      King   Bellevue    WA        98004        2018    TESLA   \n",
      "...          ...       ...        ...   ...          ...         ...      ...   \n",
      "4354  7PDSGABAXP      King    Seattle    WA        98103        2023   RIVIAN   \n",
      "4355  YV4BR0CL5L      King   Bellevue    WA        98005        2020    VOLVO   \n",
      "4356  KM8KRDAF8P      King  Shoreline    WA        98155        2023  HYUNDAI   \n",
      "4357  3C3CFFGE9G  Thurston    Olympia    WA        98506        2016     FIAT   \n",
      "4358  5YJXCAE22M      King   Kirkland    WA        98033        2021    TESLA   \n",
      "\n",
      "        Model                   Electric Vehicle Type  \\\n",
      "0          I3          Battery Electric Vehicle (BEV)   \n",
      "1     MODEL S          Battery Electric Vehicle (BEV)   \n",
      "2     MODEL S          Battery Electric Vehicle (BEV)   \n",
      "3          I8  Plug-in Hybrid Electric Vehicle (PHEV)   \n",
      "4     MODEL X          Battery Electric Vehicle (BEV)   \n",
      "...       ...                                     ...   \n",
      "4354      R1S          Battery Electric Vehicle (BEV)   \n",
      "4355     XC90  Plug-in Hybrid Electric Vehicle (PHEV)   \n",
      "4356  IONIQ 5          Battery Electric Vehicle (BEV)   \n",
      "4357      500          Battery Electric Vehicle (BEV)   \n",
      "4358  MODEL X          Battery Electric Vehicle (BEV)   \n",
      "\n",
      "      Clean Alternative Fuel Vehicle (CAFV) Eligibility  Electric Range  \\\n",
      "0               Clean Alternative Fuel Vehicle Eligible             153   \n",
      "1               Clean Alternative Fuel Vehicle Eligible             208   \n",
      "2               Clean Alternative Fuel Vehicle Eligible             249   \n",
      "3                 Not eligible due to low battery range              14   \n",
      "4               Clean Alternative Fuel Vehicle Eligible             238   \n",
      "...                                                 ...             ...   \n",
      "4354  Eligibility unknown as battery range has not b...               0   \n",
      "4355              Not eligible due to low battery range              18   \n",
      "4356  Eligibility unknown as battery range has not b...               0   \n",
      "4357            Clean Alternative Fuel Vehicle Eligible              84   \n",
      "4358  Eligibility unknown as battery range has not b...               0   \n",
      "\n",
      "      Base MSRP  Legislative District  DOL Vehicle ID  \\\n",
      "0             0                  43.0       259254397   \n",
      "1         69900                  35.0       127420940   \n",
      "2             0                  47.0       170287183   \n",
      "3             0                  41.0       205545868   \n",
      "4             0                  41.0       237977386   \n",
      "...         ...                   ...             ...   \n",
      "4354          0                  36.0       260527928   \n",
      "4355          0                  48.0       321092600   \n",
      "4356          0                  32.0       235163946   \n",
      "4357          0                  22.0         8735415   \n",
      "4358          0                  48.0               1   \n",
      "\n",
      "                     Vehicle Location  \\\n",
      "0     POINT (-122.3008235 47.6862671)   \n",
      "1     POINT (-122.6961203 47.5759584)   \n",
      "2     POINT (-122.1145138 47.3581107)   \n",
      "3       POINT (-122.202397 47.619252)   \n",
      "4       POINT (-122.202397 47.619252)   \n",
      "...                               ...   \n",
      "4354   POINT (-122.3499053 47.673887)   \n",
      "4355    POINT (-122.167394 47.614119)   \n",
      "4356    POINT (-122.301507 47.761784)   \n",
      "4357      POINT (-122.86491 47.07503)   \n",
      "4358                                0   \n",
      "\n",
      "                                   Electric Utility  2020 Census Tract  \n",
      "0      CITY OF SEATTLE - (WA)|CITY OF TACOMA - (WA)       5.303300e+10  \n",
      "1                            PUGET SOUND ENERGY INC       5.303508e+10  \n",
      "2     PUGET SOUND ENERGY INC||CITY OF TACOMA - (WA)       5.303303e+10  \n",
      "3     PUGET SOUND ENERGY INC||CITY OF TACOMA - (WA)       5.303302e+10  \n",
      "4     PUGET SOUND ENERGY INC||CITY OF TACOMA - (WA)       5.303302e+10  \n",
      "...                                             ...                ...  \n",
      "4354   CITY OF SEATTLE - (WA)|CITY OF TACOMA - (WA)       5.303300e+10  \n",
      "4355  PUGET SOUND ENERGY INC||CITY OF TACOMA - (WA)       5.303302e+10  \n",
      "4356   CITY OF SEATTLE - (WA)|CITY OF TACOMA - (WA)       5.303302e+10  \n",
      "4357                         PUGET SOUND ENERGY INC       5.306701e+10  \n",
      "4358                                              0       0.000000e+00  \n",
      "\n",
      "[4359 rows x 17 columns]\n"
     ]
    }
   ],
   "source": [
    "# Filling missing data (e.g., with zero)\n",
    "df_filled = df.fillna(0)\n",
    "print(\"\\nDataFrame after filling missing data with 0:\")\n",
    "print(df_filled)"
   ]
  },
  {
   "cell_type": "code",
   "execution_count": 7,
   "id": "126614b9-da86-4e34-9689-6946bf095b6f",
   "metadata": {},
   "outputs": [
    {
     "name": "stdout",
     "output_type": "stream",
     "text": [
      "\n",
      "DataFrame after removing duplicates:\n",
      "      VIN (1-10)    County       City State  Postal Code  Model Year     Make  \\\n",
      "0     WBY8P6C58K      King    Seattle    WA        98115        2019      BMW   \n",
      "1     5YJSA1DN4D    Kitsap  Bremerton    WA        98312        2013    TESLA   \n",
      "2     5YJSA1E26J      King       Kent    WA        98042        2018    TESLA   \n",
      "3     WBY2Z2C54E      King   Bellevue    WA        98004        2014      BMW   \n",
      "4     5YJXCDE23J      King   Bellevue    WA        98004        2018    TESLA   \n",
      "...          ...       ...        ...   ...          ...         ...      ...   \n",
      "4354  7PDSGABAXP      King    Seattle    WA        98103        2023   RIVIAN   \n",
      "4355  YV4BR0CL5L      King   Bellevue    WA        98005        2020    VOLVO   \n",
      "4356  KM8KRDAF8P      King  Shoreline    WA        98155        2023  HYUNDAI   \n",
      "4357  3C3CFFGE9G  Thurston    Olympia    WA        98506        2016     FIAT   \n",
      "4358  5YJXCAE22M      King   Kirkland    WA        98033        2021    TESLA   \n",
      "\n",
      "        Model                   Electric Vehicle Type  \\\n",
      "0          I3          Battery Electric Vehicle (BEV)   \n",
      "1     MODEL S          Battery Electric Vehicle (BEV)   \n",
      "2     MODEL S          Battery Electric Vehicle (BEV)   \n",
      "3          I8  Plug-in Hybrid Electric Vehicle (PHEV)   \n",
      "4     MODEL X          Battery Electric Vehicle (BEV)   \n",
      "...       ...                                     ...   \n",
      "4354      R1S          Battery Electric Vehicle (BEV)   \n",
      "4355     XC90  Plug-in Hybrid Electric Vehicle (PHEV)   \n",
      "4356  IONIQ 5          Battery Electric Vehicle (BEV)   \n",
      "4357      500          Battery Electric Vehicle (BEV)   \n",
      "4358  MODEL X          Battery Electric Vehicle (BEV)   \n",
      "\n",
      "      Clean Alternative Fuel Vehicle (CAFV) Eligibility  Electric Range  \\\n",
      "0               Clean Alternative Fuel Vehicle Eligible             153   \n",
      "1               Clean Alternative Fuel Vehicle Eligible             208   \n",
      "2               Clean Alternative Fuel Vehicle Eligible             249   \n",
      "3                 Not eligible due to low battery range              14   \n",
      "4               Clean Alternative Fuel Vehicle Eligible             238   \n",
      "...                                                 ...             ...   \n",
      "4354  Eligibility unknown as battery range has not b...               0   \n",
      "4355              Not eligible due to low battery range              18   \n",
      "4356  Eligibility unknown as battery range has not b...               0   \n",
      "4357            Clean Alternative Fuel Vehicle Eligible              84   \n",
      "4358  Eligibility unknown as battery range has not b...               0   \n",
      "\n",
      "      Base MSRP  Legislative District  DOL Vehicle ID  \\\n",
      "0             0                  43.0       259254397   \n",
      "1         69900                  35.0       127420940   \n",
      "2             0                  47.0       170287183   \n",
      "3             0                  41.0       205545868   \n",
      "4             0                  41.0       237977386   \n",
      "...         ...                   ...             ...   \n",
      "4354          0                  36.0       260527928   \n",
      "4355          0                  48.0       321092600   \n",
      "4356          0                  32.0       235163946   \n",
      "4357          0                  22.0         8735415   \n",
      "4358          0                  48.0               1   \n",
      "\n",
      "                     Vehicle Location  \\\n",
      "0     POINT (-122.3008235 47.6862671)   \n",
      "1     POINT (-122.6961203 47.5759584)   \n",
      "2     POINT (-122.1145138 47.3581107)   \n",
      "3       POINT (-122.202397 47.619252)   \n",
      "4       POINT (-122.202397 47.619252)   \n",
      "...                               ...   \n",
      "4354   POINT (-122.3499053 47.673887)   \n",
      "4355    POINT (-122.167394 47.614119)   \n",
      "4356    POINT (-122.301507 47.761784)   \n",
      "4357      POINT (-122.86491 47.07503)   \n",
      "4358                              NaN   \n",
      "\n",
      "                                   Electric Utility  2020 Census Tract  \n",
      "0      CITY OF SEATTLE - (WA)|CITY OF TACOMA - (WA)       5.303300e+10  \n",
      "1                            PUGET SOUND ENERGY INC       5.303508e+10  \n",
      "2     PUGET SOUND ENERGY INC||CITY OF TACOMA - (WA)       5.303303e+10  \n",
      "3     PUGET SOUND ENERGY INC||CITY OF TACOMA - (WA)       5.303302e+10  \n",
      "4     PUGET SOUND ENERGY INC||CITY OF TACOMA - (WA)       5.303302e+10  \n",
      "...                                             ...                ...  \n",
      "4354   CITY OF SEATTLE - (WA)|CITY OF TACOMA - (WA)       5.303300e+10  \n",
      "4355  PUGET SOUND ENERGY INC||CITY OF TACOMA - (WA)       5.303302e+10  \n",
      "4356   CITY OF SEATTLE - (WA)|CITY OF TACOMA - (WA)       5.303302e+10  \n",
      "4357                         PUGET SOUND ENERGY INC       5.306701e+10  \n",
      "4358                                            NaN                NaN  \n",
      "\n",
      "[4359 rows x 17 columns]\n"
     ]
    }
   ],
   "source": [
    "# Removing duplicates\n",
    "df_no_duplicates = df.drop_duplicates()\n",
    "print(\"\\nDataFrame after removing duplicates:\")\n",
    "print(df_no_duplicates)\n"
   ]
  },
  {
   "cell_type": "code",
   "execution_count": 8,
   "id": "e5dceebf-945d-4bb8-ac78-e269c667ef96",
   "metadata": {},
   "outputs": [],
   "source": [
    "# Assuming 'Make', 'Model Year', and 'Electric Range' are suitable columns for hierarchical indexing\n",
    "# Create a hierarchical index from 'Make' and 'Model Year' columns\n",
    "hier_index = pd.MultiIndex.from_frame(df[['Make', 'Model Year']])\n"
   ]
  },
  {
   "cell_type": "code",
   "execution_count": 9,
   "id": "e4512239-c19c-4c63-831a-f025a85bbab3",
   "metadata": {},
   "outputs": [],
   "source": [
    "# Create a Series using the hierarchical index and 'Electric Range' column\n",
    "series = pd.Series(df['Electric Range'].values, index=hier_index)\n"
   ]
  },
  {
   "cell_type": "code",
   "execution_count": 10,
   "id": "a0694328-e385-4096-a53d-45dc374ef038",
   "metadata": {},
   "outputs": [
    {
     "name": "stdout",
     "output_type": "stream",
     "text": [
      "\n",
      "Series with Hierarchical Index:\n",
      "Make     Model Year\n",
      "BMW      2019          153\n",
      "TESLA    2013          208\n",
      "         2018          249\n",
      "BMW      2014           14\n",
      "TESLA    2018          238\n",
      "                      ... \n",
      "RIVIAN   2023            0\n",
      "VOLVO    2020           18\n",
      "HYUNDAI  2023            0\n",
      "FIAT     2016           84\n",
      "TESLA    2021            0\n",
      "Length: 4359, dtype: int64\n"
     ]
    }
   ],
   "source": [
    "# Display the Series with hierarchical index\n",
    "print(\"\\nSeries with Hierarchical Index:\")\n",
    "print(series)\n"
   ]
  },
  {
   "cell_type": "code",
   "execution_count": 11,
   "id": "3d567439-6c5c-411d-b953-d399986f9b84",
   "metadata": {},
   "outputs": [
    {
     "name": "stdout",
     "output_type": "stream",
     "text": [
      "\n",
      "Data for Tesla:\n",
      "Model Year\n",
      "2013    208\n",
      "2018    249\n",
      "2018    238\n",
      "2020    322\n",
      "2021      0\n",
      "       ... \n",
      "2021      0\n",
      "2020    291\n",
      "2024      0\n",
      "2021      0\n",
      "2021      0\n",
      "Length: 1976, dtype: int64\n"
     ]
    }
   ],
   "source": [
    "# Selecting subsets of data at the outer level (Make)\n",
    "print(\"\\nData for Tesla:\")\n",
    "print(series['TESLA'])"
   ]
  },
  {
   "cell_type": "code",
   "execution_count": 12,
   "id": "89027f3e-16bd-47a5-a3fd-7f50c8c9f2cc",
   "metadata": {},
   "outputs": [
    {
     "name": "stdout",
     "output_type": "stream",
     "text": [
      "\n",
      "Data for Nissan:\n",
      "Model Year\n",
      "2019    150\n",
      "2014     84\n",
      "2013     75\n",
      "2016     84\n",
      "2011     73\n",
      "       ... \n",
      "2023      0\n",
      "2015     84\n",
      "2013     75\n",
      "2017    107\n",
      "2013     75\n",
      "Length: 376, dtype: int64\n"
     ]
    }
   ],
   "source": [
    "print(\"\\nData for Nissan:\")\n",
    "print(series['NISSAN'])\n"
   ]
  },
  {
   "cell_type": "code",
   "execution_count": 13,
   "id": "c9d2b813-86f3-40f0-93b7-7314ffc07368",
   "metadata": {},
   "outputs": [
    {
     "name": "stdout",
     "output_type": "stream",
     "text": [
      "\n",
      "Data for Tesla, Model Year 2020:\n",
      "Make   Model Year\n",
      "TESLA  2020          322\n",
      "       2020          322\n",
      "       2020          266\n",
      "       2020          308\n",
      "       2020          308\n",
      "                    ... \n",
      "       2020          322\n",
      "       2020          291\n",
      "       2020          330\n",
      "       2020          322\n",
      "       2020          291\n",
      "Length: 215, dtype: int64\n",
      "\n",
      "Data for Nissan, Model Year 2018:\n",
      "Make    Model Year\n",
      "NISSAN  2018          151\n",
      "        2018          151\n",
      "        2018          151\n",
      "        2018          151\n",
      "        2018          151\n",
      "        2018          151\n",
      "        2018          151\n",
      "        2018          151\n",
      "        2018          151\n",
      "        2018          151\n",
      "        2018          151\n",
      "        2018          151\n",
      "        2018          151\n",
      "        2018          151\n",
      "        2018          151\n",
      "        2018          151\n",
      "        2018          151\n",
      "        2018          151\n",
      "        2018          151\n",
      "        2018          151\n",
      "        2018          151\n",
      "        2018          151\n",
      "        2018          151\n",
      "        2018          151\n",
      "        2018          151\n",
      "        2018          151\n",
      "        2018          151\n",
      "        2018          151\n",
      "        2018          151\n",
      "        2018          151\n",
      "        2018          151\n",
      "dtype: int64\n"
     ]
    },
    {
     "name": "stderr",
     "output_type": "stream",
     "text": [
      "/var/folders/ww/0srhmmdj3t58bkcxvmrc3vgr0000gn/T/ipykernel_13043/2047864111.py:3: PerformanceWarning: indexing past lexsort depth may impact performance.\n",
      "  print(series['TESLA', 2020])\n",
      "/var/folders/ww/0srhmmdj3t58bkcxvmrc3vgr0000gn/T/ipykernel_13043/2047864111.py:6: PerformanceWarning: indexing past lexsort depth may impact performance.\n",
      "  print(series['NISSAN', 2018])\n"
     ]
    }
   ],
   "source": [
    "# Selecting subsets of data at the inner level (Model Year) within an outer level\n",
    "print(\"\\nData for Tesla, Model Year 2020:\")\n",
    "print(series['TESLA', 2020])\n",
    "\n",
    "print(\"\\nData for Nissan, Model Year 2018:\")\n",
    "print(series['NISSAN', 2018])"
   ]
  },
  {
   "cell_type": "code",
   "execution_count": 16,
   "id": "b3187db8-8507-4ab7-acc1-53ee63298a80",
   "metadata": {},
   "outputs": [],
   "source": [
    "file_path = 'Electric_Vehicle_Population_Data.csv'\n",
    "ev_data = pd.read_csv(file_path)"
   ]
  },
  {
   "cell_type": "code",
   "execution_count": 17,
   "id": "b519abc3-3c0c-4db8-9ed9-bc6abbebe23c",
   "metadata": {},
   "outputs": [],
   "source": [
    "# Data preparation for line plot: Count the number of vehicles by model year\n",
    "model_year_counts = ev_data['Model Year'].value_counts().sort_index()"
   ]
  },
  {
   "cell_type": "code",
   "execution_count": 18,
   "id": "ce735a6f-3183-494d-90ea-538cf315744e",
   "metadata": {},
   "outputs": [
    {
     "data": {
      "text/plain": [
       "[<matplotlib.lines.Line2D at 0x119a403a0>]"
      ]
     },
     "execution_count": 18,
     "metadata": {},
     "output_type": "execute_result"
    },
    {
     "data": {
      "image/png": "[encoded data removed]",
      "text/plain": [
       "<Figure size 720x432 with 1 Axes>"
      ]
     },
     "metadata": {
      "needs_background": "light"
     },
     "output_type": "display_data"
    }
   ],
   "source": [
    "# Create the line plot\n",
    "plt.figure(figsize=(10, 6))\n",
    "plt.plot(model_year_counts.index, model_year_counts.values, marker='o', linestyle='-', color='b')"
   ]
  },
  {
   "cell_type": "code",
   "execution_count": 19,
   "id": "a485f003-904c-4c7d-981f-88ad80d1ee2d",
   "metadata": {},
   "outputs": [
    {
     "data": {
      "text/plain": [
       "Text(0, 0.5, 'Number of Vehicles')"
      ]
     },
     "execution_count": 19,
     "metadata": {},
     "output_type": "execute_result"
    },
    {
     "data": {
      "image/png": "[encoded data removed]",
      "text/plain": [
       "<Figure size 432x288 with 1 Axes>"
      ]
     },
     "metadata": {
      "needs_background": "light"
     },
     "output_type": "display_data"
    }
   ],
   "source": [
    "# Title and labels\n",
    "plt.title('Number of Electric Vehicles by Model Year')\n",
    "plt.xlabel('Model Year')\n",
    "plt.ylabel('Number of Vehicles')"
   ]
  },
  {
   "cell_type": "code",
   "execution_count": 20,
   "id": "ce571180-600f-4744-ab7e-9f6b8ac0b3a4",
   "metadata": {},
   "outputs": [
    {
     "data": {
      "text/plain": [
       "([<matplotlib.axis.YTick at 0x119a87fd0>,\n",
       "  <matplotlib.axis.YTick at 0x119a87a60>,\n",
       "  <matplotlib.axis.YTick at 0x119a875e0>,\n",
       "  <matplotlib.axis.YTick at 0x11a6b0a00>],\n",
       " [Text(0, 0, '0'),\n",
       "  Text(0, 500, '500'),\n",
       "  Text(0, 1000, '1000'),\n",
       "  Text(0, 1500, '1500')])"
      ]
     },
     "execution_count": 20,
     "metadata": {},
     "output_type": "execute_result"
    },
    {
     "data": {
      "image/png": "[encoded data removed]",
      "text/plain": [
       "<Figure size 432x288 with 1 Axes>"
      ]
     },
     "metadata": {
      "needs_background": "light"
     },
     "output_type": "display_data"
    }
   ],
   "source": [
    "# Ticks and ticklabels\n",
    "plt.xticks(model_year_counts.index, rotation=45)\n",
    "plt.yticks(range(0, max(model_year_counts.values) + 500, 500))\n"
   ]
  },
  {
   "cell_type": "code",
   "execution_count": 21,
   "id": "c089decf-706c-4574-864c-7659696526e5",
   "metadata": {},
   "outputs": [
    {
     "data": {
      "image/png": "[encoded data removed]",
      "text/plain": [
       "<Figure size 432x288 with 1 Axes>"
      ]
     },
     "metadata": {
      "needs_background": "light"
     },
     "output_type": "display_data"
    }
   ],
   "source": [
    "# Annotations for specific points\n",
    "for year, count in model_year_counts.items():\n",
    "    plt.annotate(f'{count}', xy=(year, count), xytext=(year, count + 100), ha='center')\n"
   ]
  },
  {
   "cell_type": "code",
   "execution_count": 22,
   "id": "32ceaa58-d5c9-4fdd-a8d0-9f5c59c6f908",
   "metadata": {},
   "outputs": [
    {
     "data": {
      "text/plain": [
       "<Figure size 432x288 with 0 Axes>"
      ]
     },
     "metadata": {},
     "output_type": "display_data"
    }
   ],
   "source": [
    "# Save the plot\n",
    "plt.tight_layout()\n",
    "plt.savefig('line_plot_ev_model_year.png')\n",
    "plt.show()"
   ]
  },
  {
   "cell_type": "code",
   "execution_count": 23,
   "id": "e82f1b30-a50f-4ffd-90d9-7780e2da208c",
   "metadata": {},
   "outputs": [],
   "source": [
    "# Data preparation for bar plots: Group by Make and Electric Vehicle Type\n",
    "make_evtype_counts = ev_data.groupby(['Make', 'Electric Vehicle Type']).size().unstack().fillna(0)\n"
   ]
  },
  {
   "cell_type": "code",
   "execution_count": 24,
   "id": "7b4ad0ee-c1ba-462a-b675-c230b4c49b2d",
   "metadata": {},
   "outputs": [
    {
     "data": {
      "text/plain": [
       "<Axes: xlabel='Make'>"
      ]
     },
     "execution_count": 24,
     "metadata": {},
     "output_type": "execute_result"
    },
    {
     "data": {
      "text/plain": [
       "<Figure size 864x576 with 0 Axes>"
      ]
     },
     "metadata": {},
     "output_type": "display_data"
    },
    {
     "data": {
      "image/png": "[encoded data removed]",
      "text/plain": [
       "<Figure size 432x288 with 1 Axes>"
      ]
     },
     "metadata": {
      "needs_background": "light"
     },
     "output_type": "display_data"
    }
   ],
   "source": [
    "# Create grouped bar plot\n",
    "plt.figure(figsize=(12, 8))\n",
    "make_evtype_counts.plot(kind='bar')\n"
   ]
  },
  {
   "cell_type": "code",
   "execution_count": 25,
   "id": "69ccf3c6-815f-4045-8199-583da14bf9ae",
   "metadata": {},
   "outputs": [
    {
     "data": {
      "text/plain": [
       "Text(0, 0.5, 'Number of Vehicles')"
      ]
     },
     "execution_count": 25,
     "metadata": {},
     "output_type": "execute_result"
    },
    {
     "data": {
      "image/png": "[encoded data removed]",
      "text/plain": [
       "<Figure size 432x288 with 1 Axes>"
      ]
     },
     "metadata": {
      "needs_background": "light"
     },
     "output_type": "display_data"
    }
   ],
   "source": [
    "# Title and labels\n",
    "plt.title('Number of Electric Vehicles by Make and Type')\n",
    "plt.xlabel('Make')\n",
    "plt.ylabel('Number of Vehicles')"
   ]
  },
  {
   "cell_type": "code",
   "execution_count": 26,
   "id": "7e3941fa-1fd7-4c12-931e-a1f8a2b825c2",
   "metadata": {},
   "outputs": [
    {
     "data": {
      "text/plain": [
       "<Figure size 432x288 with 0 Axes>"
      ]
     },
     "metadata": {},
     "output_type": "display_data"
    }
   ],
   "source": [
    "# Save the plot\n",
    "plt.tight_layout()\n",
    "plt.savefig('grouped_bar_plot_ev_make_type.png')\n",
    "plt.show()"
   ]
  },
  {
   "cell_type": "code",
   "execution_count": 27,
   "id": "832d451e-5a65-4180-b95e-54c0db1fcea4",
   "metadata": {},
   "outputs": [
    {
     "data": {
      "text/plain": [
       "<Axes: xlabel='Make'>"
      ]
     },
     "execution_count": 27,
     "metadata": {},
     "output_type": "execute_result"
    },
    {
     "data": {
      "text/plain": [
       "<Figure size 864x576 with 0 Axes>"
      ]
     },
     "metadata": {},
     "output_type": "display_data"
    },
    {
     "data": {
      "image/png": "[encoded data removed]",
      "text/plain": [
       "<Figure size 432x288 with 1 Axes>"
      ]
     },
     "metadata": {
      "needs_background": "light"
     },
     "output_type": "display_data"
    }
   ],
   "source": [
    "# Create stacked bar plot\n",
    "plt.figure(figsize=(12, 8))\n",
    "make_evtype_counts.plot(kind='bar', stacked=True)"
   ]
  },
  {
   "cell_type": "code",
   "execution_count": 28,
   "id": "21708d40-b710-4893-8e66-d745af8e2a61",
   "metadata": {},
   "outputs": [
    {
     "data": {
      "text/plain": [
       "Text(0, 0.5, 'Number of Vehicles')"
      ]
     },
     "execution_count": 28,
     "metadata": {},
     "output_type": "execute_result"
    },
    {
     "data": {
      "image/png": "[encoded data removed]",
      "text/plain": [
       "<Figure size 432x288 with 1 Axes>"
      ]
     },
     "metadata": {
      "needs_background": "light"
     },
     "output_type": "display_data"
    }
   ],
   "source": [
    "# Title and labels\n",
    "plt.title('Number of Electric Vehicles by Make and Type (Stacked)')\n",
    "plt.xlabel('Make')\n",
    "plt.ylabel('Number of Vehicles')"
   ]
  },
  {
   "cell_type": "code",
   "execution_count": 29,
   "id": "603d921b-3665-458c-bd7a-7e6c956a5402",
   "metadata": {},
   "outputs": [
    {
     "data": {
      "text/plain": [
       "<Figure size 432x288 with 0 Axes>"
      ]
     },
     "metadata": {},
     "output_type": "display_data"
    }
   ],
   "source": [
    "# Save the plot\n",
    "plt.tight_layout()\n",
    "plt.savefig('stacked_bar_plot_ev_make_type.png')\n",
    "plt.show()"
   ]
  },
  {
   "cell_type": "code",
   "execution_count": null,
   "id": "2f063b56-5299-46df-a9b4-6b675edc6f5b",
   "metadata": {},
   "outputs": [],
   "source": []
  }
 ],
 "metadata": {
  "kernelspec": {
   "display_name": "Python 3 (ipykernel)",
   "language": "python",
   "name": "python3"
  },
  "language_info": {
   "codemirror_mode": {
    "name": "ipython",
    "version": 3
   },
   "file_extension": ".py",
   "mimetype": "text/x-python",
   "name": "python",
   "nbconvert_exporter": "python",
   "pygments_lexer": "ipython3",
   "version": "3.10.4"
  }
 },
 "nbformat": 4,
 "nbformat_minor": 5
}
